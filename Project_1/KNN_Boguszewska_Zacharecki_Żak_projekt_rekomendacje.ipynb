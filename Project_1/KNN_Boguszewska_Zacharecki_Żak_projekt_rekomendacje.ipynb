{
 "cells": [
  {
   "cell_type": "markdown",
   "metadata": {
    "id": "AD-wi3uF5o6E"
   },
   "source": [
    "# Warsztaty badawcze\n",
    "\n",
    "## Budowa systemu rekomendacyjnego na podstawie danych z OLX Praca z wykorzystaniem metody Item-Item Nearest Neighbour\n",
    "\n",
    "#### Wiktoria Boguszewska, Mateusz Zacharecki, Patrycja Żak"
   ]
  },
  {
   "cell_type": "markdown",
   "metadata": {},
   "source": [
    "## Item-Item Nearest Neighbour\n",
    "\n",
    "Algorytm Item-Item Nearest Neighbour jest techniką filtrowania kolaboratywnego. Jego działanie opiera się na znajdowaniu przedmiotów podobnych do siebie na podstawie zachowań użytkowników. W przeciwieństwie do filtrowania użytkownik-użytkownik, tutaj najpierw oblicza się podobieństwo między przedmiotami, a następnie dla danego użytkownika rekomenduje się przedmioty, które są podobne do tych, które ocenił lub z którymi wszedł w interakcję.\n",
    "\n",
    "Zalety:\n",
    "- Po obliczeniu podobieństw, rekomendacje są generowane szybko.\n",
    "- W porównaniu z podejściem użytkownik-użytkownik, podobieństwa między przedmiotami są mniej podatne na zmiany w przypadku nowych użytkowników.\n",
    "\n",
    "Wady:\n",
    "- Dla nowych przedmiotów bez interakcji algorytm ma trudności z generowaniem rekomendacji.\n",
    "- Obliczanie podobieństw może być kosztowne w przypadku bardzo dużych zbiorów danych."
   ]
  },
  {
   "cell_type": "markdown",
   "metadata": {
    "id": "CnxBAH5vj3kr"
   },
   "source": [
    "# Kod"
   ]
  },
  {
   "cell_type": "markdown",
   "metadata": {
    "id": "MtpGbtZIj0E9"
   },
   "source": [
    "Biblioteki do pobrania\n"
   ]
  },
  {
   "cell_type": "code",
   "execution_count": 38,
   "metadata": {
    "colab": {
     "base_uri": "https://localhost:8080/"
    },
    "id": "OFESyDfarUqC",
    "outputId": "f819beb5-f155-4b5a-e7a5-2fbf797e72a1",
    "tags": []
   },
   "outputs": [
    {
     "name": "stdout",
     "output_type": "stream",
     "text": [
      "Requirement already satisfied: implicit in /home/ec2-user/anaconda3/envs/pytorch_p310/lib/python3.10/site-packages (0.7.2)\n",
      "Requirement already satisfied: numpy>=1.17.0 in /home/ec2-user/anaconda3/envs/pytorch_p310/lib/python3.10/site-packages (from implicit) (1.26.4)\n",
      "Requirement already satisfied: scipy>=0.16 in /home/ec2-user/anaconda3/envs/pytorch_p310/lib/python3.10/site-packages (from implicit) (1.14.0)\n",
      "Requirement already satisfied: tqdm>=4.27 in /home/ec2-user/anaconda3/envs/pytorch_p310/lib/python3.10/site-packages (from implicit) (4.66.4)\n",
      "Requirement already satisfied: threadpoolctl in /home/ec2-user/anaconda3/envs/pytorch_p310/lib/python3.10/site-packages (from implicit) (3.5.0)\n"
     ]
    }
   ],
   "source": [
    "!pip install implicit"
   ]
  },
  {
   "cell_type": "code",
   "execution_count": 39,
   "metadata": {
    "tags": []
   },
   "outputs": [
    {
     "name": "stdout",
     "output_type": "stream",
     "text": [
      "Requirement already satisfied: scikit-optimize in /home/ec2-user/anaconda3/envs/pytorch_p310/lib/python3.10/site-packages (0.10.2)\n",
      "Requirement already satisfied: joblib>=0.11 in /home/ec2-user/anaconda3/envs/pytorch_p310/lib/python3.10/site-packages (from scikit-optimize) (1.4.2)\n",
      "Requirement already satisfied: pyaml>=16.9 in /home/ec2-user/anaconda3/envs/pytorch_p310/lib/python3.10/site-packages (from scikit-optimize) (24.9.0)\n",
      "Requirement already satisfied: numpy>=1.20.3 in /home/ec2-user/anaconda3/envs/pytorch_p310/lib/python3.10/site-packages (from scikit-optimize) (1.26.4)\n",
      "Requirement already satisfied: scipy>=1.1.0 in /home/ec2-user/anaconda3/envs/pytorch_p310/lib/python3.10/site-packages (from scikit-optimize) (1.14.0)\n",
      "Requirement already satisfied: scikit-learn>=1.0.0 in /home/ec2-user/anaconda3/envs/pytorch_p310/lib/python3.10/site-packages (from scikit-optimize) (1.5.1)\n",
      "Requirement already satisfied: packaging>=21.3 in /home/ec2-user/anaconda3/envs/pytorch_p310/lib/python3.10/site-packages (from scikit-optimize) (21.3)\n",
      "Requirement already satisfied: pyparsing!=3.0.5,>=2.0.2 in /home/ec2-user/anaconda3/envs/pytorch_p310/lib/python3.10/site-packages (from packaging>=21.3->scikit-optimize) (3.1.2)\n",
      "Requirement already satisfied: PyYAML in /home/ec2-user/anaconda3/envs/pytorch_p310/lib/python3.10/site-packages (from pyaml>=16.9->scikit-optimize) (6.0.1)\n",
      "Requirement already satisfied: threadpoolctl>=3.1.0 in /home/ec2-user/anaconda3/envs/pytorch_p310/lib/python3.10/site-packages (from scikit-learn>=1.0.0->scikit-optimize) (3.5.0)\n"
     ]
    }
   ],
   "source": [
    "!pip install scikit-optimize"
   ]
  },
  {
   "cell_type": "code",
   "execution_count": 40,
   "metadata": {
    "tags": []
   },
   "outputs": [
    {
     "name": "stdout",
     "output_type": "stream",
     "text": [
      "Requirement already satisfied: tqdm in /home/ec2-user/anaconda3/envs/pytorch_p310/lib/python3.10/site-packages (4.66.4)\n"
     ]
    }
   ],
   "source": [
    "!pip install tqdm"
   ]
  },
  {
   "cell_type": "code",
   "execution_count": 41,
   "metadata": {
    "colab": {
     "base_uri": "https://localhost:8080/"
    },
    "id": "xeb2muu-4t-z",
    "outputId": "829c5813-d316-4a9e-ff48-67fb60ac189d",
    "tags": []
   },
   "outputs": [],
   "source": [
    "import pandas as pd\n",
    "import numpy as np\n",
    "import random\n",
    "import implicit\n",
    "from scipy.sparse import coo_matrix\n",
    "from sklearn.base import BaseEstimator\n",
    "from implicit.nearest_neighbours import ItemItemRecommender\n",
    "from sklearn.model_selection import RandomizedSearchCV\n",
    "from sklearn.metrics import make_scorer\n",
    "from tqdm.notebook import tqdm"
   ]
  },
  {
   "cell_type": "markdown",
   "metadata": {
    "id": "519IrWwJ1ShD"
   },
   "source": [
    "Pracujemy z tym zbiorem danych (szczegóły w linku): https://www.kaggle.com/datasets/olxdatascience/olx-jobs-interactions"
   ]
  },
  {
   "cell_type": "code",
   "execution_count": 52,
   "metadata": {
    "id": "OA-e4pRC43SG",
    "tags": []
   },
   "outputs": [],
   "source": [
    "# Krok 1: Przetwarzanie wstępne\n",
    "\n",
    "# Wczytanie pliku\n",
    "data = pd.read_csv(\"interactions.csv\")\n",
    "data.head()\n",
    "\n",
    "# Filtracja\n",
    "data = data[data['event'] == 'click']"
   ]
  },
  {
   "cell_type": "code",
   "execution_count": 53,
   "metadata": {
    "colab": {
     "base_uri": "https://localhost:8080/",
     "height": 209
    },
    "id": "8IVnVwkGrxjY",
    "outputId": "fb15b226-9806-4c97-c446-7fcddde12ee9",
    "tags": []
   },
   "outputs": [
    {
     "data": {
      "text/plain": [
       "user          int64\n",
       "item          int64\n",
       "event        object\n",
       "timestamp     int64\n",
       "dtype: object"
      ]
     },
     "execution_count": 53,
     "metadata": {},
     "output_type": "execute_result"
    }
   ],
   "source": [
    "data.dtypes"
   ]
  },
  {
   "cell_type": "code",
   "execution_count": 54,
   "metadata": {
    "colab": {
     "base_uri": "https://localhost:8080/",
     "height": 206
    },
    "id": "SUeDQXWtoAXG",
    "outputId": "4299a139-b8fa-489e-e352-71d388c11363",
    "tags": []
   },
   "outputs": [
    {
     "data": {
      "text/html": [
       "<div>\n",
       "<style scoped>\n",
       "    .dataframe tbody tr th:only-of-type {\n",
       "        vertical-align: middle;\n",
       "    }\n",
       "\n",
       "    .dataframe tbody tr th {\n",
       "        vertical-align: top;\n",
       "    }\n",
       "\n",
       "    .dataframe thead th {\n",
       "        text-align: right;\n",
       "    }\n",
       "</style>\n",
       "<table border=\"1\" class=\"dataframe\">\n",
       "  <thead>\n",
       "    <tr style=\"text-align: right;\">\n",
       "      <th></th>\n",
       "      <th>user</th>\n",
       "      <th>item</th>\n",
       "      <th>event</th>\n",
       "      <th>timestamp</th>\n",
       "    </tr>\n",
       "  </thead>\n",
       "  <tbody>\n",
       "    <tr>\n",
       "      <th>0</th>\n",
       "      <td>27901</td>\n",
       "      <td>56865</td>\n",
       "      <td>click</td>\n",
       "      <td>1581465600</td>\n",
       "    </tr>\n",
       "    <tr>\n",
       "      <th>1</th>\n",
       "      <td>124480</td>\n",
       "      <td>115662</td>\n",
       "      <td>click</td>\n",
       "      <td>1581465600</td>\n",
       "    </tr>\n",
       "    <tr>\n",
       "      <th>2</th>\n",
       "      <td>159509</td>\n",
       "      <td>5150</td>\n",
       "      <td>click</td>\n",
       "      <td>1581465600</td>\n",
       "    </tr>\n",
       "    <tr>\n",
       "      <th>3</th>\n",
       "      <td>188861</td>\n",
       "      <td>109981</td>\n",
       "      <td>click</td>\n",
       "      <td>1581465600</td>\n",
       "    </tr>\n",
       "    <tr>\n",
       "      <th>4</th>\n",
       "      <td>207348</td>\n",
       "      <td>88746</td>\n",
       "      <td>click</td>\n",
       "      <td>1581465600</td>\n",
       "    </tr>\n",
       "  </tbody>\n",
       "</table>\n",
       "</div>"
      ],
      "text/plain": [
       "     user    item  event   timestamp\n",
       "0   27901   56865  click  1581465600\n",
       "1  124480  115662  click  1581465600\n",
       "2  159509    5150  click  1581465600\n",
       "3  188861  109981  click  1581465600\n",
       "4  207348   88746  click  1581465600"
      ]
     },
     "execution_count": 54,
     "metadata": {},
     "output_type": "execute_result"
    }
   ],
   "source": [
    "data.head()"
   ]
  },
  {
   "cell_type": "markdown",
   "metadata": {},
   "source": [
    "Funkcje pomocnicze wykorzystywane w konstrukcji grafu"
   ]
  },
  {
   "cell_type": "code",
   "execution_count": 55,
   "metadata": {
    "id": "JVGOmbU7g83R",
    "tags": []
   },
   "outputs": [],
   "source": [
    "# Samplowanie po user_id i wybór 10% obiektów o największej liczbie interakcji\n",
    "\n",
    "user_unique = data['user'].unique()\n",
    "sample_size = int(len(user_unique) * 0.1)\n",
    "random_user_10 = random.sample(list(user_unique), sample_size)\n",
    "df_10 = data[data['user'].isin(random_user_10)]\n",
    "\n",
    "df_10_dist = df_10[['item','user']].drop_duplicates()\n",
    "item_count = df_10_dist.groupby('item').size().reset_index(name='count')\n",
    "item_count = item_count.sort_values(by = 'count', ascending = False)\n",
    "item_unique = df_10['item'].unique()\n",
    "sample_size = int(len(item_unique) * 0.1)\n",
    "top_item_10 = item_count.iloc[:sample_size, :]\n",
    "df_10_10 = df_10[df_10['item'].isin(top_item_10['item'])]\n",
    "\n",
    "# Podział zbioru na train i test - tzw. temporal split - zbiorem testowym jest 20% ostatnich interakcji (sortowanie po timestamp) czyli na podstawie 80% wcześniejszych interakcji przewidujemy następne\n",
    "\n",
    "df_10_10 = df_10_10.sort_values('timestamp')\n",
    "train_size = int(len(df_10_10) * 0.8)\n",
    "train_data = df_10_10[:train_size]\n",
    "test_data = df_10_10[train_size:]"
   ]
  },
  {
   "cell_type": "code",
   "execution_count": 56,
   "metadata": {
    "colab": {
     "base_uri": "https://localhost:8080/"
    },
    "id": "AWAyaDK7rosa",
    "outputId": "950cd7eb-87b2-4cd8-9a2b-9beaeb8334b4",
    "tags": []
   },
   "outputs": [
    {
     "name": "stderr",
     "output_type": "stream",
     "text": [
      "/tmp/ipykernel_31290/3756790464.py:6: SettingWithCopyWarning: \n",
      "A value is trying to be set on a copy of a slice from a DataFrame.\n",
      "Try using .loc[row_indexer,col_indexer] = value instead\n",
      "\n",
      "See the caveats in the documentation: https://pandas.pydata.org/pandas-docs/stable/user_guide/indexing.html#returning-a-view-versus-a-copy\n",
      "  train_data['user_idx'] = train_data['user'].map(user_map)\n",
      "/tmp/ipykernel_31290/3756790464.py:7: SettingWithCopyWarning: \n",
      "A value is trying to be set on a copy of a slice from a DataFrame.\n",
      "Try using .loc[row_indexer,col_indexer] = value instead\n",
      "\n",
      "See the caveats in the documentation: https://pandas.pydata.org/pandas-docs/stable/user_guide/indexing.html#returning-a-view-versus-a-copy\n",
      "  train_data['item_idx'] = train_data['item'].map(item_map)\n"
     ]
    }
   ],
   "source": [
    "# Tworzymy mapowanie z user i item do indeksów\n",
    "user_map = {u: i for i, u in enumerate(train_data['user'].unique())}\n",
    "item_map = {i: j for j, i in enumerate(train_data['item'].unique())}\n",
    "\n",
    "# Mapujemy ID użytkowników i przedmiotów na indeksy\n",
    "train_data['user_idx'] = train_data['user'].map(user_map)\n",
    "train_data['item_idx'] = train_data['item'].map(item_map)\n",
    "\n",
    "# Tworzymy macierz rzadką użytkownik-przedmiot dla treningu\n",
    "train_matrix = coo_matrix(\n",
    "    (np.ones(len(train_data)), (train_data['user_idx'], train_data['item_idx'])),\n",
    "    shape=(len(user_map), len(item_map))\n",
    ")"
   ]
  },
  {
   "cell_type": "code",
   "execution_count": 57,
   "metadata": {
    "tags": []
   },
   "outputs": [],
   "source": [
    "# Normalizacja wartości współczynników w macierzy\n",
    "train_matrix = (train_matrix.T * 100).T  # Skaluje wartości dla algorytmu\n",
    "# Konwersja macierzy COO na CSR\n",
    "train_matrix_csr = train_matrix.tocsr()"
   ]
  },
  {
   "cell_type": "code",
   "execution_count": 58,
   "metadata": {
    "tags": []
   },
   "outputs": [],
   "source": [
    "class ItemItemKNNWrapper(BaseEstimator):\n",
    "    def __init__(self, K=10, num_threads=1):\n",
    "        self.K = K\n",
    "        self.num_threads = num_threads\n",
    "        self.model = None\n",
    "        self.user_map = None\n",
    "        self.item_map = None\n",
    "        self.train_matrix = None\n",
    "\n",
    "    def fit(self, X, y=None):\n",
    "        self.train_matrix = X.copy()\n",
    "        # Build user_map and item_map\n",
    "        self.user_map = {user_id: idx for idx, user_id in enumerate(np.unique(X.nonzero()[0]))}\n",
    "        self.item_map = {item_id: idx for idx, item_id in enumerate(np.unique(X.nonzero()[1]))}\n",
    "\n",
    "        self.model = ItemItemRecommender(K=self.K, num_threads=self.num_threads)\n",
    "        self.model.fit(X)\n",
    "        return self\n",
    "\n",
    "    def recommend(self, user, user_items, N=10):\n",
    "        return self.model.recommend(user, user_items, N=N)\n",
    "\n",
    "    def get_params(self, deep=True):\n",
    "        return {\"K\": self.K, \"num_threads\": self.num_threads}\n",
    "\n",
    "    def set_params(self, **params):\n",
    "        for key, value in params.items():\n",
    "            setattr(self, key, value)\n",
    "        return self"
   ]
  },
  {
   "cell_type": "code",
   "execution_count": 59,
   "metadata": {
    "tags": []
   },
   "outputs": [],
   "source": [
    "def precision_at_k_score(estimator, X_test, y=None):\n",
    "    # estimator: trained model for the current fold\n",
    "    # X_test: validation data for the current fold\n",
    "\n",
    "    # Use estimator's mappings and train matrix\n",
    "    precision, recall, accuracy, f1 = precision_recall_accuracy_f1_at_k(\n",
    "        estimator.model,\n",
    "        estimator.train_matrix,\n",
    "        X_test,\n",
    "        estimator.user_map,\n",
    "        estimator.item_map,\n",
    "        k=10\n",
    "    )\n",
    "    return precision"
   ]
  },
  {
   "cell_type": "code",
   "execution_count": 60,
   "metadata": {
    "tags": []
   },
   "outputs": [],
   "source": [
    "def precision_recall_accuracy_f1_at_k(model, train_matrix, X_test, user_map, item_map, k=10):\n",
    "    user_precisions = []\n",
    "    user_recalls = []\n",
    "    user_accuracies = []\n",
    "    user_f1s = []\n",
    "\n",
    "    # Get list of users in X_test\n",
    "    users = np.unique(X_test.nonzero()[0])\n",
    "\n",
    "    for user_idx in users:\n",
    "        if user_idx not in user_map.values():\n",
    "            continue  # Skip users not in the mapping\n",
    "\n",
    "        # Get actual items for this user in X_test\n",
    "        actual_items_idx = X_test[user_idx].nonzero()[1]\n",
    "\n",
    "        if len(actual_items_idx) == 0:\n",
    "            continue  # Skip if no actual items\n",
    "\n",
    "        # Get recommendations\n",
    "        recommended_items = model.recommend(user_idx, train_matrix[user_idx], N=k)\n",
    "        recommended_items_idx = [item[0] for item in recommended_items]\n",
    "\n",
    "        if not recommended_items_idx:\n",
    "            continue  # Skip if no recommendations\n",
    "\n",
    "        # Calculate metrics\n",
    "        tp = len(set(recommended_items_idx) & set(actual_items_idx))\n",
    "        fp = len(recommended_items_idx) - tp\n",
    "        fn = len(actual_items_idx) - tp\n",
    "\n",
    "        denominator_precision = tp + fp\n",
    "        denominator_recall = tp + fn\n",
    "\n",
    "        precision = tp / denominator_precision if denominator_precision > 0 else 0.0\n",
    "        recall = tp / denominator_recall if denominator_recall > 0 else 0.0\n",
    "\n",
    "        if precision + recall > 0:\n",
    "            f1 = 2 * (precision * recall) / (precision + recall)\n",
    "        else:\n",
    "            f1 = 0.0\n",
    "\n",
    "        accuracy_denominator = tp + fp + fn\n",
    "        accuracy = tp / accuracy_denominator if accuracy_denominator > 0 else 0.0\n",
    "\n",
    "        user_precisions.append(precision)\n",
    "        user_recalls.append(recall)\n",
    "        user_accuracies.append(accuracy)\n",
    "        user_f1s.append(f1)\n",
    "\n",
    "    # Calculate average metrics\n",
    "    avg_precision = np.mean(user_precisions) if user_precisions else 0.0\n",
    "    avg_recall = np.mean(user_recalls) if user_recalls else 0.0\n",
    "    avg_accuracy = np.mean(user_accuracies) if user_accuracies else 0.0\n",
    "    avg_f1 = np.mean(user_f1s) if user_f1s else 0.0\n",
    "\n",
    "    return avg_precision, avg_recall, avg_accuracy, avg_f1"
   ]
  },
  {
   "cell_type": "code",
   "execution_count": 61,
   "metadata": {
    "tags": []
   },
   "outputs": [
    {
     "name": "stdout",
     "output_type": "stream",
     "text": [
      "Fitting 3 folds for each of 10 candidates, totalling 30 fits\n"
     ]
    },
    {
     "data": {
      "application/vnd.jupyter.widget-view+json": {
       "model_id": "64ff31175de2413187fdb3d624cb0b24",
       "version_major": 2,
       "version_minor": 0
      },
      "text/plain": [
       "  0%|          | 0/12770 [00:00<?, ?it/s]"
      ]
     },
     "metadata": {},
     "output_type": "display_data"
    },
    {
     "name": "stdout",
     "output_type": "stream",
     "text": [
      "[CV] END ................................K=60, num_threads=4; total time=21.2min\n"
     ]
    },
    {
     "data": {
      "application/vnd.jupyter.widget-view+json": {
       "model_id": "fd758d05ed0743f482aa9cb1bca9ff1f",
       "version_major": 2,
       "version_minor": 0
      },
      "text/plain": [
       "  0%|          | 0/12770 [00:00<?, ?it/s]"
      ]
     },
     "metadata": {},
     "output_type": "display_data"
    },
    {
     "name": "stdout",
     "output_type": "stream",
     "text": [
      "[CV] END ................................K=60, num_threads=4; total time=21.1min\n"
     ]
    },
    {
     "data": {
      "application/vnd.jupyter.widget-view+json": {
       "model_id": "c752e41fedab42bdad2ab703d0b85261",
       "version_major": 2,
       "version_minor": 0
      },
      "text/plain": [
       "  0%|          | 0/12770 [00:00<?, ?it/s]"
      ]
     },
     "metadata": {},
     "output_type": "display_data"
    },
    {
     "name": "stdout",
     "output_type": "stream",
     "text": [
      "[CV] END ................................K=60, num_threads=4; total time=21.6min\n"
     ]
    },
    {
     "data": {
      "application/vnd.jupyter.widget-view+json": {
       "model_id": "6449894e5e0e43048484c40441059859",
       "version_major": 2,
       "version_minor": 0
      },
      "text/plain": [
       "  0%|          | 0/12770 [00:00<?, ?it/s]"
      ]
     },
     "metadata": {},
     "output_type": "display_data"
    },
    {
     "name": "stdout",
     "output_type": "stream",
     "text": [
      "[CV] END ................................K=45, num_threads=8; total time=21.0min\n"
     ]
    },
    {
     "data": {
      "application/vnd.jupyter.widget-view+json": {
       "model_id": "4ccfac0df90543e1ae3602629022ad91",
       "version_major": 2,
       "version_minor": 0
      },
      "text/plain": [
       "  0%|          | 0/12770 [00:00<?, ?it/s]"
      ]
     },
     "metadata": {},
     "output_type": "display_data"
    },
    {
     "name": "stdout",
     "output_type": "stream",
     "text": [
      "[CV] END ................................K=45, num_threads=8; total time=21.0min\n"
     ]
    },
    {
     "data": {
      "application/vnd.jupyter.widget-view+json": {
       "model_id": "74d580ab57bc45af9ed1f66e396deb10",
       "version_major": 2,
       "version_minor": 0
      },
      "text/plain": [
       "  0%|          | 0/12770 [00:00<?, ?it/s]"
      ]
     },
     "metadata": {},
     "output_type": "display_data"
    },
    {
     "name": "stdout",
     "output_type": "stream",
     "text": [
      "[CV] END ................................K=45, num_threads=8; total time=21.1min\n"
     ]
    },
    {
     "data": {
      "application/vnd.jupyter.widget-view+json": {
       "model_id": "29222ac1d31b49118daf76d43a0c8027",
       "version_major": 2,
       "version_minor": 0
      },
      "text/plain": [
       "  0%|          | 0/12770 [00:00<?, ?it/s]"
      ]
     },
     "metadata": {},
     "output_type": "display_data"
    },
    {
     "name": "stdout",
     "output_type": "stream",
     "text": [
      "[CV] END ................................K=95, num_threads=8; total time=21.0min\n"
     ]
    },
    {
     "data": {
      "application/vnd.jupyter.widget-view+json": {
       "model_id": "9e9a2f4cda9e4906bb46a4d76da4b495",
       "version_major": 2,
       "version_minor": 0
      },
      "text/plain": [
       "  0%|          | 0/12770 [00:00<?, ?it/s]"
      ]
     },
     "metadata": {},
     "output_type": "display_data"
    },
    {
     "name": "stdout",
     "output_type": "stream",
     "text": [
      "[CV] END ................................K=95, num_threads=8; total time=21.0min\n"
     ]
    },
    {
     "data": {
      "application/vnd.jupyter.widget-view+json": {
       "model_id": "ccadea9c68c34b99bbc0637ac743f1e9",
       "version_major": 2,
       "version_minor": 0
      },
      "text/plain": [
       "  0%|          | 0/12770 [00:00<?, ?it/s]"
      ]
     },
     "metadata": {},
     "output_type": "display_data"
    },
    {
     "name": "stdout",
     "output_type": "stream",
     "text": [
      "[CV] END ................................K=95, num_threads=8; total time=21.0min\n"
     ]
    },
    {
     "data": {
      "application/vnd.jupyter.widget-view+json": {
       "model_id": "737b6893793044608f50c14cfbe48f9f",
       "version_major": 2,
       "version_minor": 0
      },
      "text/plain": [
       "  0%|          | 0/12770 [00:00<?, ?it/s]"
      ]
     },
     "metadata": {},
     "output_type": "display_data"
    },
    {
     "name": "stdout",
     "output_type": "stream",
     "text": [
      "[CV] END ................................K=40, num_threads=1; total time=21.2min\n"
     ]
    },
    {
     "data": {
      "application/vnd.jupyter.widget-view+json": {
       "model_id": "cb0661ea5b72416ead15e4881339c1e2",
       "version_major": 2,
       "version_minor": 0
      },
      "text/plain": [
       "  0%|          | 0/12770 [00:00<?, ?it/s]"
      ]
     },
     "metadata": {},
     "output_type": "display_data"
    },
    {
     "name": "stdout",
     "output_type": "stream",
     "text": [
      "[CV] END ................................K=40, num_threads=1; total time=21.1min\n"
     ]
    },
    {
     "data": {
      "application/vnd.jupyter.widget-view+json": {
       "model_id": "8b99fc8dd0f74ccda16effe08c835224",
       "version_major": 2,
       "version_minor": 0
      },
      "text/plain": [
       "  0%|          | 0/12770 [00:00<?, ?it/s]"
      ]
     },
     "metadata": {},
     "output_type": "display_data"
    },
    {
     "name": "stdout",
     "output_type": "stream",
     "text": [
      "[CV] END ................................K=40, num_threads=1; total time=21.0min\n"
     ]
    },
    {
     "data": {
      "application/vnd.jupyter.widget-view+json": {
       "model_id": "2163b504733a4632840ee5e7b3d956dd",
       "version_major": 2,
       "version_minor": 0
      },
      "text/plain": [
       "  0%|          | 0/12770 [00:00<?, ?it/s]"
      ]
     },
     "metadata": {},
     "output_type": "display_data"
    },
    {
     "name": "stdout",
     "output_type": "stream",
     "text": [
      "[CV] END ................................K=30, num_threads=2; total time=21.1min\n"
     ]
    },
    {
     "data": {
      "application/vnd.jupyter.widget-view+json": {
       "model_id": "bd45d08d9aa24314a88ca4a1fd2d786d",
       "version_major": 2,
       "version_minor": 0
      },
      "text/plain": [
       "  0%|          | 0/12770 [00:00<?, ?it/s]"
      ]
     },
     "metadata": {},
     "output_type": "display_data"
    },
    {
     "name": "stdout",
     "output_type": "stream",
     "text": [
      "[CV] END ................................K=30, num_threads=2; total time=21.0min\n"
     ]
    },
    {
     "data": {
      "application/vnd.jupyter.widget-view+json": {
       "model_id": "ef9d5bc6b20f427c9db209ca0f40598a",
       "version_major": 2,
       "version_minor": 0
      },
      "text/plain": [
       "  0%|          | 0/12770 [00:00<?, ?it/s]"
      ]
     },
     "metadata": {},
     "output_type": "display_data"
    },
    {
     "name": "stdout",
     "output_type": "stream",
     "text": [
      "[CV] END ................................K=30, num_threads=2; total time=21.1min\n"
     ]
    },
    {
     "data": {
      "application/vnd.jupyter.widget-view+json": {
       "model_id": "23efed266024427b8fa38c91c2951661",
       "version_major": 2,
       "version_minor": 0
      },
      "text/plain": [
       "  0%|          | 0/12770 [00:00<?, ?it/s]"
      ]
     },
     "metadata": {},
     "output_type": "display_data"
    },
    {
     "name": "stdout",
     "output_type": "stream",
     "text": [
      "[CV] END .................................K=5, num_threads=4; total time=21.0min\n"
     ]
    },
    {
     "data": {
      "application/vnd.jupyter.widget-view+json": {
       "model_id": "60abf9cee3c34c05854b84688a6b98d3",
       "version_major": 2,
       "version_minor": 0
      },
      "text/plain": [
       "  0%|          | 0/12770 [00:00<?, ?it/s]"
      ]
     },
     "metadata": {},
     "output_type": "display_data"
    },
    {
     "name": "stdout",
     "output_type": "stream",
     "text": [
      "[CV] END .................................K=5, num_threads=4; total time=21.0min\n"
     ]
    },
    {
     "data": {
      "application/vnd.jupyter.widget-view+json": {
       "model_id": "e9d383ea99d24483ad3ef9b437a4edf0",
       "version_major": 2,
       "version_minor": 0
      },
      "text/plain": [
       "  0%|          | 0/12770 [00:00<?, ?it/s]"
      ]
     },
     "metadata": {},
     "output_type": "display_data"
    },
    {
     "name": "stdout",
     "output_type": "stream",
     "text": [
      "[CV] END .................................K=5, num_threads=4; total time=21.2min\n"
     ]
    },
    {
     "data": {
      "application/vnd.jupyter.widget-view+json": {
       "model_id": "9985125b21da4a5ea914210de7732c85",
       "version_major": 2,
       "version_minor": 0
      },
      "text/plain": [
       "  0%|          | 0/12770 [00:00<?, ?it/s]"
      ]
     },
     "metadata": {},
     "output_type": "display_data"
    },
    {
     "name": "stdout",
     "output_type": "stream",
     "text": [
      "[CV] END ................................K=45, num_threads=1; total time=21.2min\n"
     ]
    },
    {
     "data": {
      "application/vnd.jupyter.widget-view+json": {
       "model_id": "15281db2392446d4845d5d16900dfcdf",
       "version_major": 2,
       "version_minor": 0
      },
      "text/plain": [
       "  0%|          | 0/12770 [00:00<?, ?it/s]"
      ]
     },
     "metadata": {},
     "output_type": "display_data"
    },
    {
     "name": "stdout",
     "output_type": "stream",
     "text": [
      "[CV] END ................................K=45, num_threads=1; total time=21.1min\n"
     ]
    },
    {
     "data": {
      "application/vnd.jupyter.widget-view+json": {
       "model_id": "918da1196db944ce9ebcadd02e9cdbb8",
       "version_major": 2,
       "version_minor": 0
      },
      "text/plain": [
       "  0%|          | 0/12770 [00:00<?, ?it/s]"
      ]
     },
     "metadata": {},
     "output_type": "display_data"
    },
    {
     "name": "stdout",
     "output_type": "stream",
     "text": [
      "[CV] END ................................K=45, num_threads=1; total time=21.1min\n"
     ]
    },
    {
     "data": {
      "application/vnd.jupyter.widget-view+json": {
       "model_id": "f303cc13492844d9998acb9ede2a81a2",
       "version_major": 2,
       "version_minor": 0
      },
      "text/plain": [
       "  0%|          | 0/12770 [00:00<?, ?it/s]"
      ]
     },
     "metadata": {},
     "output_type": "display_data"
    },
    {
     "name": "stdout",
     "output_type": "stream",
     "text": [
      "[CV] END ................................K=55, num_threads=4; total time=21.1min\n"
     ]
    },
    {
     "data": {
      "application/vnd.jupyter.widget-view+json": {
       "model_id": "9e1af1f871ee41f9b0260e49c3bfa3f9",
       "version_major": 2,
       "version_minor": 0
      },
      "text/plain": [
       "  0%|          | 0/12770 [00:00<?, ?it/s]"
      ]
     },
     "metadata": {},
     "output_type": "display_data"
    },
    {
     "name": "stdout",
     "output_type": "stream",
     "text": [
      "[CV] END ................................K=55, num_threads=4; total time=21.2min\n"
     ]
    },
    {
     "data": {
      "application/vnd.jupyter.widget-view+json": {
       "model_id": "15eb58de53fb440eb2a3f4d2ec207f10",
       "version_major": 2,
       "version_minor": 0
      },
      "text/plain": [
       "  0%|          | 0/12770 [00:00<?, ?it/s]"
      ]
     },
     "metadata": {},
     "output_type": "display_data"
    },
    {
     "name": "stdout",
     "output_type": "stream",
     "text": [
      "[CV] END ................................K=55, num_threads=4; total time=21.2min\n"
     ]
    },
    {
     "data": {
      "application/vnd.jupyter.widget-view+json": {
       "model_id": "db37bbf563f24973af358bd405adc533",
       "version_major": 2,
       "version_minor": 0
      },
      "text/plain": [
       "  0%|          | 0/12770 [00:00<?, ?it/s]"
      ]
     },
     "metadata": {},
     "output_type": "display_data"
    },
    {
     "name": "stdout",
     "output_type": "stream",
     "text": [
      "[CV] END ................................K=15, num_threads=4; total time=21.5min\n"
     ]
    },
    {
     "data": {
      "application/vnd.jupyter.widget-view+json": {
       "model_id": "9d19656914f048b6bf5f6554494305f3",
       "version_major": 2,
       "version_minor": 0
      },
      "text/plain": [
       "  0%|          | 0/12770 [00:00<?, ?it/s]"
      ]
     },
     "metadata": {},
     "output_type": "display_data"
    },
    {
     "name": "stdout",
     "output_type": "stream",
     "text": [
      "[CV] END ................................K=15, num_threads=4; total time=21.4min\n"
     ]
    },
    {
     "data": {
      "application/vnd.jupyter.widget-view+json": {
       "model_id": "3ba42cfa3a6c48e6be0610cf20602e21",
       "version_major": 2,
       "version_minor": 0
      },
      "text/plain": [
       "  0%|          | 0/12770 [00:00<?, ?it/s]"
      ]
     },
     "metadata": {},
     "output_type": "display_data"
    },
    {
     "name": "stdout",
     "output_type": "stream",
     "text": [
      "[CV] END ................................K=15, num_threads=4; total time=21.4min\n"
     ]
    },
    {
     "data": {
      "application/vnd.jupyter.widget-view+json": {
       "model_id": "8716cecc3afc4516acc789ceb41ffbd8",
       "version_major": 2,
       "version_minor": 0
      },
      "text/plain": [
       "  0%|          | 0/12770 [00:00<?, ?it/s]"
      ]
     },
     "metadata": {},
     "output_type": "display_data"
    },
    {
     "name": "stdout",
     "output_type": "stream",
     "text": [
      "[CV] END ................................K=30, num_threads=8; total time=21.4min\n"
     ]
    },
    {
     "data": {
      "application/vnd.jupyter.widget-view+json": {
       "model_id": "40ff693644f346e69e69b70208873887",
       "version_major": 2,
       "version_minor": 0
      },
      "text/plain": [
       "  0%|          | 0/12770 [00:00<?, ?it/s]"
      ]
     },
     "metadata": {},
     "output_type": "display_data"
    },
    {
     "name": "stdout",
     "output_type": "stream",
     "text": [
      "[CV] END ................................K=30, num_threads=8; total time=21.7min\n"
     ]
    },
    {
     "data": {
      "application/vnd.jupyter.widget-view+json": {
       "model_id": "aa3ef5b53b9a4381a12aeecdb03b05d5",
       "version_major": 2,
       "version_minor": 0
      },
      "text/plain": [
       "  0%|          | 0/12770 [00:00<?, ?it/s]"
      ]
     },
     "metadata": {},
     "output_type": "display_data"
    },
    {
     "name": "stdout",
     "output_type": "stream",
     "text": [
      "[CV] END ................................K=30, num_threads=8; total time=21.4min\n"
     ]
    },
    {
     "data": {
      "application/vnd.jupyter.widget-view+json": {
       "model_id": "15edee2272fb44b084ea4de80de7c29d",
       "version_major": 2,
       "version_minor": 0
      },
      "text/plain": [
       "  0%|          | 0/12770 [00:00<?, ?it/s]"
      ]
     },
     "metadata": {},
     "output_type": "display_data"
    },
    {
     "name": "stdout",
     "output_type": "stream",
     "text": [
      "Najlepsze parametry dla Item-Item KNN: {'num_threads': 4, 'K': 60}\n",
      "Najlepszy wynik dla Item-Item KNN: 0.0005501895923677131\n"
     ]
    }
   ],
   "source": [
    "# Define parameter space to optimize\n",
    "param_knn = {\n",
    "    'K': np.arange(5, 101, 5),  # Number of neighbors from 5 to 100 with step 5\n",
    "    'num_threads': [1, 2, 4, 8]  # Number of threads\n",
    "}\n",
    "\n",
    "# Create Item-Item KNN model using wrapper\n",
    "item_knn_wrapper = ItemItemKNNWrapper()\n",
    "\n",
    "# Number of optimization iterations\n",
    "n_iter = 10\n",
    "\n",
    "# Use RandomizedSearchCV to optimize hyperparameters\n",
    "opt_knn = RandomizedSearchCV(\n",
    "    item_knn_wrapper,\n",
    "    param_distributions=param_knn,\n",
    "    n_iter=n_iter,\n",
    "    scoring=precision_at_k_score,  # Pass the function directly\n",
    "    cv=3,  # Cross-validation\n",
    "    n_jobs=1,\n",
    "    verbose=2\n",
    ")\n",
    "\n",
    "opt_knn.fit(train_matrix_csr, y=None)\n",
    "best_knn_model = opt_knn.best_estimator_\n",
    "\n",
    "# Display optimization results\n",
    "print(\"Najlepsze parametry dla Item-Item KNN:\", opt_knn.best_params_)\n",
    "print(\"Najlepszy wynik dla Item-Item KNN:\", opt_knn.best_score_)"
   ]
  },
  {
   "cell_type": "code",
   "execution_count": 62,
   "metadata": {
    "tags": []
   },
   "outputs": [],
   "source": [
    "def precision_recall_accuracy_f1_at_k(model, train_matrix_csr, test_data, user_map, item_map, k=10):\n",
    "    # Convert train_matrix to csr_matrix if it's not already in that format\n",
    "\n",
    "    user_precisions = []\n",
    "    user_recalls = []\n",
    "    user_accuracies = []\n",
    "    user_f1s = []\n",
    "\n",
    "    # Get list of unique users in test_data\n",
    "    users = test_data['user'].unique()\n",
    "\n",
    "    for user_id in users:\n",
    "        if user_id not in user_map:\n",
    "            continue  # Skip users not in the mapping\n",
    "\n",
    "        user_idx = user_map[user_id]\n",
    "\n",
    "        # Get actual items for this user in test_data\n",
    "        actual_items_idx = test_data[test_data['user'] == user_id]['item'].map(item_map).dropna().values\n",
    "\n",
    "        if len(actual_items_idx) == 0:\n",
    "            continue  # Skip if no actual items\n",
    "\n",
    "        # Get recommendations\n",
    "        recommended_items = model.recommend(user_idx, train_matrix_csr[user_idx], N=k)\n",
    "        recommended_items_idx = [item[0] for item in recommended_items]\n",
    "\n",
    "        if not recommended_items_idx:\n",
    "            continue  # Skip if no recommendations\n",
    "\n",
    "        # Calculate metrics\n",
    "        tp = len(set(recommended_items_idx) & set(actual_items_idx))\n",
    "        fp = len(recommended_items_idx) - tp\n",
    "        fn = len(actual_items_idx) - tp\n",
    "\n",
    "        denominator_precision = tp + fp\n",
    "        denominator_recall = tp + fn\n",
    "\n",
    "        precision = tp / denominator_precision if denominator_precision > 0 else 0.0\n",
    "        recall = tp / denominator_recall if denominator_recall > 0 else 0.0\n",
    "\n",
    "        if precision + recall > 0:\n",
    "            f1 = 2 * (precision * recall) / (precision + recall)\n",
    "        else:\n",
    "            f1 = 0.0\n",
    "\n",
    "        accuracy_denominator = tp + fp + fn\n",
    "        accuracy = tp / accuracy_denominator if accuracy_denominator > 0 else 0.0\n",
    "\n",
    "        user_precisions.append(precision)\n",
    "        user_recalls.append(recall)\n",
    "        user_accuracies.append(accuracy)\n",
    "        user_f1s.append(f1)\n",
    "\n",
    "    # Calculate average metrics\n",
    "    avg_precision = np.mean(user_precisions) if user_precisions else 0.0\n",
    "    avg_recall = np.mean(user_recalls) if user_recalls else 0.0\n",
    "    avg_accuracy = np.mean(user_accuracies) if user_accuracies else 0.0\n",
    "    avg_f1 = np.mean(user_f1s) if user_f1s else 0.0\n",
    "\n",
    "    return avg_precision, avg_recall, avg_accuracy, avg_f1"
   ]
  },
  {
   "cell_type": "code",
   "execution_count": 63,
   "metadata": {
    "tags": []
   },
   "outputs": [
    {
     "name": "stdout",
     "output_type": "stream",
     "text": [
      "Precision@K: 0.023952588690427195\n",
      "Recall@K: 0.011698680777340315\n"
     ]
    }
   ],
   "source": [
    "# Obliczenie wszystkich miar dla najlepszego modelu\n",
    "precision_at_k, recall_at_k, accuracy_at_k, f1_at_k = precision_recall_accuracy_f1_at_k(\n",
    "    best_knn_model.model,      # Model wewnątrz wrappera\n",
    "    train_matrix_csr,          # Macierz treningowa\n",
    "    test_data,                 # Dane testowe (może to być zbiór walidacyjny lub testowy)\n",
    "    user_map,                  # Mapowanie użytkowników\n",
    "    item_map,                  # Mapowanie przedmiotów\n",
    "    k=10                       # Liczba rekomendacji (możesz zmienić wartość 'k')\n",
    ")\n",
    "\n",
    "# Wyświetlamy wyniki\n",
    "print(f\"Precision@K: {precision_at_k}\")\n",
    "print(f\"Recall@K: {recall_at_k}\")"
   ]
  }
 ],
 "metadata": {
  "accelerator": "GPU",
  "colab": {
   "gpuType": "T4",
   "provenance": []
  },
  "kernelspec": {
   "display_name": "conda_pytorch_p310",
   "language": "python",
   "name": "conda_pytorch_p310"
  },
  "language_info": {
   "codemirror_mode": {
    "name": "ipython",
    "version": 3
   },
   "file_extension": ".py",
   "mimetype": "text/x-python",
   "name": "python",
   "nbconvert_exporter": "python",
   "pygments_lexer": "ipython3",
   "version": "3.10.14"
  },
  "widgets": {
   "application/vnd.jupyter.widget-state+json": {
    "12140253a82448c6aa25bd8f08255642": {
     "model_module": "@jupyter-widgets/base",
     "model_module_version": "1.2.0",
     "model_name": "LayoutModel",
     "state": {
      "_model_module": "@jupyter-widgets/base",
      "_model_module_version": "1.2.0",
      "_model_name": "LayoutModel",
      "_view_count": null,
      "_view_module": "@jupyter-widgets/base",
      "_view_module_version": "1.2.0",
      "_view_name": "LayoutView",
      "align_content": null,
      "align_items": null,
      "align_self": null,
      "border": null,
      "bottom": null,
      "display": null,
      "flex": null,
      "flex_flow": null,
      "grid_area": null,
      "grid_auto_columns": null,
      "grid_auto_flow": null,
      "grid_auto_rows": null,
      "grid_column": null,
      "grid_gap": null,
      "grid_row": null,
      "grid_template_areas": null,
      "grid_template_columns": null,
      "grid_template_rows": null,
      "height": null,
      "justify_content": null,
      "justify_items": null,
      "left": null,
      "margin": null,
      "max_height": null,
      "max_width": null,
      "min_height": null,
      "min_width": null,
      "object_fit": null,
      "object_position": null,
      "order": null,
      "overflow": null,
      "overflow_x": null,
      "overflow_y": null,
      "padding": null,
      "right": null,
      "top": null,
      "visibility": null,
      "width": null
     }
    },
    "17da17664a8f40588e5ca881311b54b6": {
     "model_module": "@jupyter-widgets/base",
     "model_module_version": "1.2.0",
     "model_name": "LayoutModel",
     "state": {
      "_model_module": "@jupyter-widgets/base",
      "_model_module_version": "1.2.0",
      "_model_name": "LayoutModel",
      "_view_count": null,
      "_view_module": "@jupyter-widgets/base",
      "_view_module_version": "1.2.0",
      "_view_name": "LayoutView",
      "align_content": null,
      "align_items": null,
      "align_self": null,
      "border": null,
      "bottom": null,
      "display": null,
      "flex": null,
      "flex_flow": null,
      "grid_area": null,
      "grid_auto_columns": null,
      "grid_auto_flow": null,
      "grid_auto_rows": null,
      "grid_column": null,
      "grid_gap": null,
      "grid_row": null,
      "grid_template_areas": null,
      "grid_template_columns": null,
      "grid_template_rows": null,
      "height": null,
      "justify_content": null,
      "justify_items": null,
      "left": null,
      "margin": null,
      "max_height": null,
      "max_width": null,
      "min_height": null,
      "min_width": null,
      "object_fit": null,
      "object_position": null,
      "order": null,
      "overflow": null,
      "overflow_x": null,
      "overflow_y": null,
      "padding": null,
      "right": null,
      "top": null,
      "visibility": null,
      "width": null
     }
    },
    "1c483183ae11417dabdaee49b594b578": {
     "model_module": "@jupyter-widgets/controls",
     "model_module_version": "1.5.0",
     "model_name": "FloatProgressModel",
     "state": {
      "_dom_classes": [],
      "_model_module": "@jupyter-widgets/controls",
      "_model_module_version": "1.5.0",
      "_model_name": "FloatProgressModel",
      "_view_count": null,
      "_view_module": "@jupyter-widgets/controls",
      "_view_module_version": "1.5.0",
      "_view_name": "ProgressView",
      "bar_style": "success",
      "description": "",
      "description_tooltip": null,
      "layout": "IPY_MODEL_d075d4c58125420bbc7fc85f31e7374c",
      "max": 11685,
      "min": 0,
      "orientation": "horizontal",
      "style": "IPY_MODEL_9fa4457f199c48149ee047df91d4b458",
      "value": 11685
     }
    },
    "1d50c2138df04dcbabdb0e8f13a27aaf": {
     "model_module": "@jupyter-widgets/controls",
     "model_module_version": "1.5.0",
     "model_name": "DescriptionStyleModel",
     "state": {
      "_model_module": "@jupyter-widgets/controls",
      "_model_module_version": "1.5.0",
      "_model_name": "DescriptionStyleModel",
      "_view_count": null,
      "_view_module": "@jupyter-widgets/base",
      "_view_module_version": "1.2.0",
      "_view_name": "StyleView",
      "description_width": ""
     }
    },
    "21b80db8f5024a6e86c820393ace4911": {
     "model_module": "@jupyter-widgets/controls",
     "model_module_version": "1.5.0",
     "model_name": "ProgressStyleModel",
     "state": {
      "_model_module": "@jupyter-widgets/controls",
      "_model_module_version": "1.5.0",
      "_model_name": "ProgressStyleModel",
      "_view_count": null,
      "_view_module": "@jupyter-widgets/base",
      "_view_module_version": "1.2.0",
      "_view_name": "StyleView",
      "bar_color": null,
      "description_width": ""
     }
    },
    "370f87de28484bc2a6e3bf14e4ee0616": {
     "model_module": "@jupyter-widgets/controls",
     "model_module_version": "1.5.0",
     "model_name": "HTMLModel",
     "state": {
      "_dom_classes": [],
      "_model_module": "@jupyter-widgets/controls",
      "_model_module_version": "1.5.0",
      "_model_name": "HTMLModel",
      "_view_count": null,
      "_view_module": "@jupyter-widgets/controls",
      "_view_module_version": "1.5.0",
      "_view_name": "HTMLView",
      "description": "",
      "description_tooltip": null,
      "layout": "IPY_MODEL_57e5c897da894557aac4d516f6705bf7",
      "placeholder": "​",
      "style": "IPY_MODEL_60ad617734764ad499f9045713dd53bb",
      "value": "100%"
     }
    },
    "3970e3695ed04af1ad0bdc3ed25bfd6e": {
     "model_module": "@jupyter-widgets/base",
     "model_module_version": "1.2.0",
     "model_name": "LayoutModel",
     "state": {
      "_model_module": "@jupyter-widgets/base",
      "_model_module_version": "1.2.0",
      "_model_name": "LayoutModel",
      "_view_count": null,
      "_view_module": "@jupyter-widgets/base",
      "_view_module_version": "1.2.0",
      "_view_name": "LayoutView",
      "align_content": null,
      "align_items": null,
      "align_self": null,
      "border": null,
      "bottom": null,
      "display": null,
      "flex": null,
      "flex_flow": null,
      "grid_area": null,
      "grid_auto_columns": null,
      "grid_auto_flow": null,
      "grid_auto_rows": null,
      "grid_column": null,
      "grid_gap": null,
      "grid_row": null,
      "grid_template_areas": null,
      "grid_template_columns": null,
      "grid_template_rows": null,
      "height": null,
      "justify_content": null,
      "justify_items": null,
      "left": null,
      "margin": null,
      "max_height": null,
      "max_width": null,
      "min_height": null,
      "min_width": null,
      "object_fit": null,
      "object_position": null,
      "order": null,
      "overflow": null,
      "overflow_x": null,
      "overflow_y": null,
      "padding": null,
      "right": null,
      "top": null,
      "visibility": null,
      "width": null
     }
    },
    "3a57669878dc4b0892cf216b0c4a4058": {
     "model_module": "@jupyter-widgets/controls",
     "model_module_version": "1.5.0",
     "model_name": "HTMLModel",
     "state": {
      "_dom_classes": [],
      "_model_module": "@jupyter-widgets/controls",
      "_model_module_version": "1.5.0",
      "_model_name": "HTMLModel",
      "_view_count": null,
      "_view_module": "@jupyter-widgets/controls",
      "_view_module_version": "1.5.0",
      "_view_name": "HTMLView",
      "description": "",
      "description_tooltip": null,
      "layout": "IPY_MODEL_a0120f02dce44b93b50b851dc35d0504",
      "placeholder": "​",
      "style": "IPY_MODEL_e55037d1f38a48c0b9afb29860c30fc3",
      "value": " 20/20 [00:13&lt;00:00,  1.33it/s]"
     }
    },
    "481e8112f8964e48bbeab0af1892277c": {
     "model_module": "@jupyter-widgets/controls",
     "model_module_version": "1.5.0",
     "model_name": "HBoxModel",
     "state": {
      "_dom_classes": [],
      "_model_module": "@jupyter-widgets/controls",
      "_model_module_version": "1.5.0",
      "_model_name": "HBoxModel",
      "_view_count": null,
      "_view_module": "@jupyter-widgets/controls",
      "_view_module_version": "1.5.0",
      "_view_name": "HBoxView",
      "box_style": "",
      "children": [
       "IPY_MODEL_7f757ad7ccb041ab9065f30fed5e470d",
       "IPY_MODEL_e65d5c6a7fa5465fb0b7debbce9b0af7",
       "IPY_MODEL_3a57669878dc4b0892cf216b0c4a4058"
      ],
      "layout": "IPY_MODEL_72048a94bff74fbd95421b9fdb37069a"
     }
    },
    "57e5c897da894557aac4d516f6705bf7": {
     "model_module": "@jupyter-widgets/base",
     "model_module_version": "1.2.0",
     "model_name": "LayoutModel",
     "state": {
      "_model_module": "@jupyter-widgets/base",
      "_model_module_version": "1.2.0",
      "_model_name": "LayoutModel",
      "_view_count": null,
      "_view_module": "@jupyter-widgets/base",
      "_view_module_version": "1.2.0",
      "_view_name": "LayoutView",
      "align_content": null,
      "align_items": null,
      "align_self": null,
      "border": null,
      "bottom": null,
      "display": null,
      "flex": null,
      "flex_flow": null,
      "grid_area": null,
      "grid_auto_columns": null,
      "grid_auto_flow": null,
      "grid_auto_rows": null,
      "grid_column": null,
      "grid_gap": null,
      "grid_row": null,
      "grid_template_areas": null,
      "grid_template_columns": null,
      "grid_template_rows": null,
      "height": null,
      "justify_content": null,
      "justify_items": null,
      "left": null,
      "margin": null,
      "max_height": null,
      "max_width": null,
      "min_height": null,
      "min_width": null,
      "object_fit": null,
      "object_position": null,
      "order": null,
      "overflow": null,
      "overflow_x": null,
      "overflow_y": null,
      "padding": null,
      "right": null,
      "top": null,
      "visibility": null,
      "width": null
     }
    },
    "593a6f92efff413cb20c01b8d9072e5e": {
     "model_module": "@jupyter-widgets/base",
     "model_module_version": "1.2.0",
     "model_name": "LayoutModel",
     "state": {
      "_model_module": "@jupyter-widgets/base",
      "_model_module_version": "1.2.0",
      "_model_name": "LayoutModel",
      "_view_count": null,
      "_view_module": "@jupyter-widgets/base",
      "_view_module_version": "1.2.0",
      "_view_name": "LayoutView",
      "align_content": null,
      "align_items": null,
      "align_self": null,
      "border": null,
      "bottom": null,
      "display": null,
      "flex": null,
      "flex_flow": null,
      "grid_area": null,
      "grid_auto_columns": null,
      "grid_auto_flow": null,
      "grid_auto_rows": null,
      "grid_column": null,
      "grid_gap": null,
      "grid_row": null,
      "grid_template_areas": null,
      "grid_template_columns": null,
      "grid_template_rows": null,
      "height": null,
      "justify_content": null,
      "justify_items": null,
      "left": null,
      "margin": null,
      "max_height": null,
      "max_width": null,
      "min_height": null,
      "min_width": null,
      "object_fit": null,
      "object_position": null,
      "order": null,
      "overflow": null,
      "overflow_x": null,
      "overflow_y": null,
      "padding": null,
      "right": null,
      "top": null,
      "visibility": null,
      "width": null
     }
    },
    "60ad617734764ad499f9045713dd53bb": {
     "model_module": "@jupyter-widgets/controls",
     "model_module_version": "1.5.0",
     "model_name": "DescriptionStyleModel",
     "state": {
      "_model_module": "@jupyter-widgets/controls",
      "_model_module_version": "1.5.0",
      "_model_name": "DescriptionStyleModel",
      "_view_count": null,
      "_view_module": "@jupyter-widgets/base",
      "_view_module_version": "1.2.0",
      "_view_name": "StyleView",
      "description_width": ""
     }
    },
    "63b1be99bd52464a8e6570a77bf5d801": {
     "model_module": "@jupyter-widgets/controls",
     "model_module_version": "1.5.0",
     "model_name": "HBoxModel",
     "state": {
      "_dom_classes": [],
      "_model_module": "@jupyter-widgets/controls",
      "_model_module_version": "1.5.0",
      "_model_name": "HBoxModel",
      "_view_count": null,
      "_view_module": "@jupyter-widgets/controls",
      "_view_module_version": "1.5.0",
      "_view_name": "HBoxView",
      "box_style": "",
      "children": [
       "IPY_MODEL_370f87de28484bc2a6e3bf14e4ee0616",
       "IPY_MODEL_1c483183ae11417dabdaee49b594b578",
       "IPY_MODEL_e3deb75c732241158dcd66a9f75f1a58"
      ],
      "layout": "IPY_MODEL_12140253a82448c6aa25bd8f08255642"
     }
    },
    "6957db2b41404f1281c7a07a665356c2": {
     "model_module": "@jupyter-widgets/base",
     "model_module_version": "1.2.0",
     "model_name": "LayoutModel",
     "state": {
      "_model_module": "@jupyter-widgets/base",
      "_model_module_version": "1.2.0",
      "_model_name": "LayoutModel",
      "_view_count": null,
      "_view_module": "@jupyter-widgets/base",
      "_view_module_version": "1.2.0",
      "_view_name": "LayoutView",
      "align_content": null,
      "align_items": null,
      "align_self": null,
      "border": null,
      "bottom": null,
      "display": null,
      "flex": null,
      "flex_flow": null,
      "grid_area": null,
      "grid_auto_columns": null,
      "grid_auto_flow": null,
      "grid_auto_rows": null,
      "grid_column": null,
      "grid_gap": null,
      "grid_row": null,
      "grid_template_areas": null,
      "grid_template_columns": null,
      "grid_template_rows": null,
      "height": null,
      "justify_content": null,
      "justify_items": null,
      "left": null,
      "margin": null,
      "max_height": null,
      "max_width": null,
      "min_height": null,
      "min_width": null,
      "object_fit": null,
      "object_position": null,
      "order": null,
      "overflow": null,
      "overflow_x": null,
      "overflow_y": null,
      "padding": null,
      "right": null,
      "top": null,
      "visibility": null,
      "width": null
     }
    },
    "6d4a628c0e6146dea26e9ebd1e7353ef": {
     "model_module": "@jupyter-widgets/base",
     "model_module_version": "1.2.0",
     "model_name": "LayoutModel",
     "state": {
      "_model_module": "@jupyter-widgets/base",
      "_model_module_version": "1.2.0",
      "_model_name": "LayoutModel",
      "_view_count": null,
      "_view_module": "@jupyter-widgets/base",
      "_view_module_version": "1.2.0",
      "_view_name": "LayoutView",
      "align_content": null,
      "align_items": null,
      "align_self": null,
      "border": null,
      "bottom": null,
      "display": null,
      "flex": null,
      "flex_flow": null,
      "grid_area": null,
      "grid_auto_columns": null,
      "grid_auto_flow": null,
      "grid_auto_rows": null,
      "grid_column": null,
      "grid_gap": null,
      "grid_row": null,
      "grid_template_areas": null,
      "grid_template_columns": null,
      "grid_template_rows": null,
      "height": null,
      "justify_content": null,
      "justify_items": null,
      "left": null,
      "margin": null,
      "max_height": null,
      "max_width": null,
      "min_height": null,
      "min_width": null,
      "object_fit": null,
      "object_position": null,
      "order": null,
      "overflow": null,
      "overflow_x": null,
      "overflow_y": null,
      "padding": null,
      "right": null,
      "top": null,
      "visibility": null,
      "width": null
     }
    },
    "72048a94bff74fbd95421b9fdb37069a": {
     "model_module": "@jupyter-widgets/base",
     "model_module_version": "1.2.0",
     "model_name": "LayoutModel",
     "state": {
      "_model_module": "@jupyter-widgets/base",
      "_model_module_version": "1.2.0",
      "_model_name": "LayoutModel",
      "_view_count": null,
      "_view_module": "@jupyter-widgets/base",
      "_view_module_version": "1.2.0",
      "_view_name": "LayoutView",
      "align_content": null,
      "align_items": null,
      "align_self": null,
      "border": null,
      "bottom": null,
      "display": null,
      "flex": null,
      "flex_flow": null,
      "grid_area": null,
      "grid_auto_columns": null,
      "grid_auto_flow": null,
      "grid_auto_rows": null,
      "grid_column": null,
      "grid_gap": null,
      "grid_row": null,
      "grid_template_areas": null,
      "grid_template_columns": null,
      "grid_template_rows": null,
      "height": null,
      "justify_content": null,
      "justify_items": null,
      "left": null,
      "margin": null,
      "max_height": null,
      "max_width": null,
      "min_height": null,
      "min_width": null,
      "object_fit": null,
      "object_position": null,
      "order": null,
      "overflow": null,
      "overflow_x": null,
      "overflow_y": null,
      "padding": null,
      "right": null,
      "top": null,
      "visibility": null,
      "width": null
     }
    },
    "7f757ad7ccb041ab9065f30fed5e470d": {
     "model_module": "@jupyter-widgets/controls",
     "model_module_version": "1.5.0",
     "model_name": "HTMLModel",
     "state": {
      "_dom_classes": [],
      "_model_module": "@jupyter-widgets/controls",
      "_model_module_version": "1.5.0",
      "_model_name": "HTMLModel",
      "_view_count": null,
      "_view_module": "@jupyter-widgets/controls",
      "_view_module_version": "1.5.0",
      "_view_name": "HTMLView",
      "description": "",
      "description_tooltip": null,
      "layout": "IPY_MODEL_17da17664a8f40588e5ca881311b54b6",
      "placeholder": "​",
      "style": "IPY_MODEL_9488a63fe82c46188188a4f7308c8631",
      "value": "100%"
     }
    },
    "9488a63fe82c46188188a4f7308c8631": {
     "model_module": "@jupyter-widgets/controls",
     "model_module_version": "1.5.0",
     "model_name": "DescriptionStyleModel",
     "state": {
      "_model_module": "@jupyter-widgets/controls",
      "_model_module_version": "1.5.0",
      "_model_name": "DescriptionStyleModel",
      "_view_count": null,
      "_view_module": "@jupyter-widgets/base",
      "_view_module_version": "1.2.0",
      "_view_name": "StyleView",
      "description_width": ""
     }
    },
    "950839b3a4ed48a0b589d1545333aeee": {
     "model_module": "@jupyter-widgets/base",
     "model_module_version": "1.2.0",
     "model_name": "LayoutModel",
     "state": {
      "_model_module": "@jupyter-widgets/base",
      "_model_module_version": "1.2.0",
      "_model_name": "LayoutModel",
      "_view_count": null,
      "_view_module": "@jupyter-widgets/base",
      "_view_module_version": "1.2.0",
      "_view_name": "LayoutView",
      "align_content": null,
      "align_items": null,
      "align_self": null,
      "border": null,
      "bottom": null,
      "display": null,
      "flex": null,
      "flex_flow": null,
      "grid_area": null,
      "grid_auto_columns": null,
      "grid_auto_flow": null,
      "grid_auto_rows": null,
      "grid_column": null,
      "grid_gap": null,
      "grid_row": null,
      "grid_template_areas": null,
      "grid_template_columns": null,
      "grid_template_rows": null,
      "height": null,
      "justify_content": null,
      "justify_items": null,
      "left": null,
      "margin": null,
      "max_height": null,
      "max_width": null,
      "min_height": null,
      "min_width": null,
      "object_fit": null,
      "object_position": null,
      "order": null,
      "overflow": null,
      "overflow_x": null,
      "overflow_y": null,
      "padding": null,
      "right": null,
      "top": null,
      "visibility": null,
      "width": null
     }
    },
    "9fa4457f199c48149ee047df91d4b458": {
     "model_module": "@jupyter-widgets/controls",
     "model_module_version": "1.5.0",
     "model_name": "ProgressStyleModel",
     "state": {
      "_model_module": "@jupyter-widgets/controls",
      "_model_module_version": "1.5.0",
      "_model_name": "ProgressStyleModel",
      "_view_count": null,
      "_view_module": "@jupyter-widgets/base",
      "_view_module_version": "1.2.0",
      "_view_name": "StyleView",
      "bar_color": null,
      "description_width": ""
     }
    },
    "a0120f02dce44b93b50b851dc35d0504": {
     "model_module": "@jupyter-widgets/base",
     "model_module_version": "1.2.0",
     "model_name": "LayoutModel",
     "state": {
      "_model_module": "@jupyter-widgets/base",
      "_model_module_version": "1.2.0",
      "_model_name": "LayoutModel",
      "_view_count": null,
      "_view_module": "@jupyter-widgets/base",
      "_view_module_version": "1.2.0",
      "_view_name": "LayoutView",
      "align_content": null,
      "align_items": null,
      "align_self": null,
      "border": null,
      "bottom": null,
      "display": null,
      "flex": null,
      "flex_flow": null,
      "grid_area": null,
      "grid_auto_columns": null,
      "grid_auto_flow": null,
      "grid_auto_rows": null,
      "grid_column": null,
      "grid_gap": null,
      "grid_row": null,
      "grid_template_areas": null,
      "grid_template_columns": null,
      "grid_template_rows": null,
      "height": null,
      "justify_content": null,
      "justify_items": null,
      "left": null,
      "margin": null,
      "max_height": null,
      "max_width": null,
      "min_height": null,
      "min_width": null,
      "object_fit": null,
      "object_position": null,
      "order": null,
      "overflow": null,
      "overflow_x": null,
      "overflow_y": null,
      "padding": null,
      "right": null,
      "top": null,
      "visibility": null,
      "width": null
     }
    },
    "a1593c64909f4c7f8ca6c32cf2cf7f9b": {
     "model_module": "@jupyter-widgets/controls",
     "model_module_version": "1.5.0",
     "model_name": "ProgressStyleModel",
     "state": {
      "_model_module": "@jupyter-widgets/controls",
      "_model_module_version": "1.5.0",
      "_model_name": "ProgressStyleModel",
      "_view_count": null,
      "_view_module": "@jupyter-widgets/base",
      "_view_module_version": "1.2.0",
      "_view_name": "StyleView",
      "bar_color": null,
      "description_width": ""
     }
    },
    "a5f5b08566fe45179488816f4ca177c0": {
     "model_module": "@jupyter-widgets/controls",
     "model_module_version": "1.5.0",
     "model_name": "HTMLModel",
     "state": {
      "_dom_classes": [],
      "_model_module": "@jupyter-widgets/controls",
      "_model_module_version": "1.5.0",
      "_model_name": "HTMLModel",
      "_view_count": null,
      "_view_module": "@jupyter-widgets/controls",
      "_view_module_version": "1.5.0",
      "_view_name": "HTMLView",
      "description": "",
      "description_tooltip": null,
      "layout": "IPY_MODEL_f7a8c968dc304fd7bfa16bc21a2a7ecf",
      "placeholder": "​",
      "style": "IPY_MODEL_bbb5c6a1fb1341a6b0189e9a25e910a7",
      "value": " 50/50 [00:48&lt;00:00,  1.14it/s]"
     }
    },
    "a685d3ec9e194d969bc419652e4903c7": {
     "model_module": "@jupyter-widgets/controls",
     "model_module_version": "1.5.0",
     "model_name": "FloatProgressModel",
     "state": {
      "_dom_classes": [],
      "_model_module": "@jupyter-widgets/controls",
      "_model_module_version": "1.5.0",
      "_model_name": "FloatProgressModel",
      "_view_count": null,
      "_view_module": "@jupyter-widgets/controls",
      "_view_module_version": "1.5.0",
      "_view_name": "ProgressView",
      "bar_style": "success",
      "description": "",
      "description_tooltip": null,
      "layout": "IPY_MODEL_6957db2b41404f1281c7a07a665356c2",
      "max": 50,
      "min": 0,
      "orientation": "horizontal",
      "style": "IPY_MODEL_a1593c64909f4c7f8ca6c32cf2cf7f9b",
      "value": 50
     }
    },
    "bbb5c6a1fb1341a6b0189e9a25e910a7": {
     "model_module": "@jupyter-widgets/controls",
     "model_module_version": "1.5.0",
     "model_name": "DescriptionStyleModel",
     "state": {
      "_model_module": "@jupyter-widgets/controls",
      "_model_module_version": "1.5.0",
      "_model_name": "DescriptionStyleModel",
      "_view_count": null,
      "_view_module": "@jupyter-widgets/base",
      "_view_module_version": "1.2.0",
      "_view_name": "StyleView",
      "description_width": ""
     }
    },
    "c7e23e2ad0de4f00821a999adb02d1b4": {
     "model_module": "@jupyter-widgets/controls",
     "model_module_version": "1.5.0",
     "model_name": "HBoxModel",
     "state": {
      "_dom_classes": [],
      "_model_module": "@jupyter-widgets/controls",
      "_model_module_version": "1.5.0",
      "_model_name": "HBoxModel",
      "_view_count": null,
      "_view_module": "@jupyter-widgets/controls",
      "_view_module_version": "1.5.0",
      "_view_name": "HBoxView",
      "box_style": "",
      "children": [
       "IPY_MODEL_ed075196531947288e205899a48f4144",
       "IPY_MODEL_a685d3ec9e194d969bc419652e4903c7",
       "IPY_MODEL_a5f5b08566fe45179488816f4ca177c0"
      ],
      "layout": "IPY_MODEL_950839b3a4ed48a0b589d1545333aeee"
     }
    },
    "d075d4c58125420bbc7fc85f31e7374c": {
     "model_module": "@jupyter-widgets/base",
     "model_module_version": "1.2.0",
     "model_name": "LayoutModel",
     "state": {
      "_model_module": "@jupyter-widgets/base",
      "_model_module_version": "1.2.0",
      "_model_name": "LayoutModel",
      "_view_count": null,
      "_view_module": "@jupyter-widgets/base",
      "_view_module_version": "1.2.0",
      "_view_name": "LayoutView",
      "align_content": null,
      "align_items": null,
      "align_self": null,
      "border": null,
      "bottom": null,
      "display": null,
      "flex": null,
      "flex_flow": null,
      "grid_area": null,
      "grid_auto_columns": null,
      "grid_auto_flow": null,
      "grid_auto_rows": null,
      "grid_column": null,
      "grid_gap": null,
      "grid_row": null,
      "grid_template_areas": null,
      "grid_template_columns": null,
      "grid_template_rows": null,
      "height": null,
      "justify_content": null,
      "justify_items": null,
      "left": null,
      "margin": null,
      "max_height": null,
      "max_width": null,
      "min_height": null,
      "min_width": null,
      "object_fit": null,
      "object_position": null,
      "order": null,
      "overflow": null,
      "overflow_x": null,
      "overflow_y": null,
      "padding": null,
      "right": null,
      "top": null,
      "visibility": null,
      "width": null
     }
    },
    "e3deb75c732241158dcd66a9f75f1a58": {
     "model_module": "@jupyter-widgets/controls",
     "model_module_version": "1.5.0",
     "model_name": "HTMLModel",
     "state": {
      "_dom_classes": [],
      "_model_module": "@jupyter-widgets/controls",
      "_model_module_version": "1.5.0",
      "_model_name": "HTMLModel",
      "_view_count": null,
      "_view_module": "@jupyter-widgets/controls",
      "_view_module_version": "1.5.0",
      "_view_name": "HTMLView",
      "description": "",
      "description_tooltip": null,
      "layout": "IPY_MODEL_3970e3695ed04af1ad0bdc3ed25bfd6e",
      "placeholder": "​",
      "style": "IPY_MODEL_1d50c2138df04dcbabdb0e8f13a27aaf",
      "value": " 11685/11685 [00:00&lt;00:00, 50747.39it/s]"
     }
    },
    "e55037d1f38a48c0b9afb29860c30fc3": {
     "model_module": "@jupyter-widgets/controls",
     "model_module_version": "1.5.0",
     "model_name": "DescriptionStyleModel",
     "state": {
      "_model_module": "@jupyter-widgets/controls",
      "_model_module_version": "1.5.0",
      "_model_name": "DescriptionStyleModel",
      "_view_count": null,
      "_view_module": "@jupyter-widgets/base",
      "_view_module_version": "1.2.0",
      "_view_name": "StyleView",
      "description_width": ""
     }
    },
    "e65d5c6a7fa5465fb0b7debbce9b0af7": {
     "model_module": "@jupyter-widgets/controls",
     "model_module_version": "1.5.0",
     "model_name": "FloatProgressModel",
     "state": {
      "_dom_classes": [],
      "_model_module": "@jupyter-widgets/controls",
      "_model_module_version": "1.5.0",
      "_model_name": "FloatProgressModel",
      "_view_count": null,
      "_view_module": "@jupyter-widgets/controls",
      "_view_module_version": "1.5.0",
      "_view_name": "ProgressView",
      "bar_style": "success",
      "description": "",
      "description_tooltip": null,
      "layout": "IPY_MODEL_6d4a628c0e6146dea26e9ebd1e7353ef",
      "max": 20,
      "min": 0,
      "orientation": "horizontal",
      "style": "IPY_MODEL_21b80db8f5024a6e86c820393ace4911",
      "value": 20
     }
    },
    "ed075196531947288e205899a48f4144": {
     "model_module": "@jupyter-widgets/controls",
     "model_module_version": "1.5.0",
     "model_name": "HTMLModel",
     "state": {
      "_dom_classes": [],
      "_model_module": "@jupyter-widgets/controls",
      "_model_module_version": "1.5.0",
      "_model_name": "HTMLModel",
      "_view_count": null,
      "_view_module": "@jupyter-widgets/controls",
      "_view_module_version": "1.5.0",
      "_view_name": "HTMLView",
      "description": "",
      "description_tooltip": null,
      "layout": "IPY_MODEL_593a6f92efff413cb20c01b8d9072e5e",
      "placeholder": "​",
      "style": "IPY_MODEL_f21dbc63f3b14aa18963289fd73b6a6a",
      "value": "100%"
     }
    },
    "f21dbc63f3b14aa18963289fd73b6a6a": {
     "model_module": "@jupyter-widgets/controls",
     "model_module_version": "1.5.0",
     "model_name": "DescriptionStyleModel",
     "state": {
      "_model_module": "@jupyter-widgets/controls",
      "_model_module_version": "1.5.0",
      "_model_name": "DescriptionStyleModel",
      "_view_count": null,
      "_view_module": "@jupyter-widgets/base",
      "_view_module_version": "1.2.0",
      "_view_name": "StyleView",
      "description_width": ""
     }
    },
    "f7a8c968dc304fd7bfa16bc21a2a7ecf": {
     "model_module": "@jupyter-widgets/base",
     "model_module_version": "1.2.0",
     "model_name": "LayoutModel",
     "state": {
      "_model_module": "@jupyter-widgets/base",
      "_model_module_version": "1.2.0",
      "_model_name": "LayoutModel",
      "_view_count": null,
      "_view_module": "@jupyter-widgets/base",
      "_view_module_version": "1.2.0",
      "_view_name": "LayoutView",
      "align_content": null,
      "align_items": null,
      "align_self": null,
      "border": null,
      "bottom": null,
      "display": null,
      "flex": null,
      "flex_flow": null,
      "grid_area": null,
      "grid_auto_columns": null,
      "grid_auto_flow": null,
      "grid_auto_rows": null,
      "grid_column": null,
      "grid_gap": null,
      "grid_row": null,
      "grid_template_areas": null,
      "grid_template_columns": null,
      "grid_template_rows": null,
      "height": null,
      "justify_content": null,
      "justify_items": null,
      "left": null,
      "margin": null,
      "max_height": null,
      "max_width": null,
      "min_height": null,
      "min_width": null,
      "object_fit": null,
      "object_position": null,
      "order": null,
      "overflow": null,
      "overflow_x": null,
      "overflow_y": null,
      "padding": null,
      "right": null,
      "top": null,
      "visibility": null,
      "width": null
     }
    }
   }
  }
 },
 "nbformat": 4,
 "nbformat_minor": 4
}
